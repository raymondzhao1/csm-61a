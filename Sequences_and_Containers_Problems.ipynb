{
  "nbformat": 4,
  "nbformat_minor": 0,
  "metadata": {
    "colab": {
      "provenance": [],
      "toc_visible": true,
      "authorship_tag": "ABX9TyNU5ALcMQ7YNVgNEg29TC0+",
      "include_colab_link": true
    },
    "kernelspec": {
      "name": "python3",
      "display_name": "Python 3"
    },
    "language_info": {
      "name": "python"
    }
  },
  "cells": [
    {
      "cell_type": "markdown",
      "metadata": {
        "id": "view-in-github",
        "colab_type": "text"
      },
      "source": [
        "<a href=\"https://colab.research.google.com/github/raymondzhao1/csm-61a/blob/main/Sequences_and_Containers_Problems.ipynb\" target=\"_parent\"><img src=\"https://colab.research.google.com/assets/colab-badge.svg\" alt=\"Open In Colab\"/></a>"
      ]
    },
    {
      "cell_type": "markdown",
      "source": [
        "# **2/24: Sequences and Containers**"
      ],
      "metadata": {
        "id": "7gLX84BifFjK"
      }
    },
    {
      "cell_type": "markdown",
      "source": [
        "## **Q1: WWPD**"
      ],
      "metadata": {
        "id": "WCNOxFrufd4C"
      }
    },
    {
      "cell_type": "code",
      "source": [
        "total = 0\n",
        "\n",
        "def func(x, y):\n",
        "    return [x, y]\n",
        "\n",
        "for el in [func(i, i) for i in range(3)]:\n",
        "    total += sum(el)"
      ],
      "metadata": {
        "id": "OiaZnsAwFrDC"
      },
      "execution_count": null,
      "outputs": []
    },
    {
      "cell_type": "markdown",
      "source": [
        "Run the cell below to view the answer:"
      ],
      "metadata": {
        "id": "_AuhlsgNGFn2"
      }
    },
    {
      "cell_type": "code",
      "source": [
        "print(f'The value of total is {total}.')"
      ],
      "metadata": {
        "colab": {
          "base_uri": "https://localhost:8080/"
        },
        "id": "XSoVy2a6Fzux",
        "outputId": "adcbe833-eea7-406e-a502-a4c868fe291e"
      },
      "execution_count": null,
      "outputs": [
        {
          "output_type": "stream",
          "name": "stdout",
          "text": [
            "The value of total is 6.\n"
          ]
        }
      ]
    },
    {
      "cell_type": "markdown",
      "source": [
        "## **Q2: Letter Check**"
      ],
      "metadata": {
        "id": "w2hK66Z-g94_"
      }
    },
    {
      "cell_type": "code",
      "source": [
        "def letter_check(lst, letter):\n",
        "  \"\"\" Return whether letter is present in every string of lst.\n",
        "  >>> s = ['dog', 'deck', 'dolly']\n",
        "  >>> letter_check(s, 'd') \n",
        "  True\n",
        "  \"\"\"\n",
        "  return ____________________________"
      ],
      "metadata": {
        "id": "l85jumygIV5i"
      },
      "execution_count": null,
      "outputs": []
    },
    {
      "cell_type": "markdown",
      "source": [
        "Q2 Tests:"
      ],
      "metadata": {
        "id": "7yspR8XTIWDP"
      }
    },
    {
      "cell_type": "code",
      "source": [
        "s = ['dog', 'deck', 'dolly']\n",
        "t = letter_check(s, 'd')\n",
        "assert t == True, f'Expected True, but got {t}'\n",
        "t = letter_check(s, 'e')\n",
        "assert t == False, f'Expected False, but got {t}'"
      ],
      "metadata": {
        "id": "xc70Vqf2IWO6"
      },
      "execution_count": null,
      "outputs": []
    },
    {
      "cell_type": "markdown",
      "source": [
        "## **Q3: Letter Count**"
      ],
      "metadata": {
        "id": "ew8ZdN_gg8lp"
      }
    },
    {
      "cell_type": "code",
      "source": [
        "def letter_count(word, letter):\n",
        "  \"\"\" \n",
        "  Return number of times letter appears in word.\n",
        "  >>> letter_count('mississppi', 's')\n",
        "  4\n",
        "  \"\"\"\n",
        "  return ___________________________"
      ],
      "metadata": {
        "id": "OrKM9hQ7Gbm5"
      },
      "execution_count": null,
      "outputs": []
    },
    {
      "cell_type": "markdown",
      "source": [
        "Q3 Tests:"
      ],
      "metadata": {
        "id": "587h_IX0IMZB"
      }
    },
    {
      "cell_type": "code",
      "source": [
        "t = letter_count('mississppi', 'i')\n",
        "assert t == 3, f'Expected 3, but got {t}'\n",
        "\n",
        "t = letter_count('9flalfkd', 'f')\n",
        "assert t == 2, f'Expected 2, but got {t}'\n",
        "\n",
        "t = letter_count('9flalfkd', 'z')\n",
        "assert t == 0, f'Expected 0, but got {t}'"
      ],
      "metadata": {
        "id": "45wrpQXXHIT5"
      },
      "execution_count": null,
      "outputs": []
    },
    {
      "cell_type": "markdown",
      "source": [
        "## **Q4: Ever Rotate**"
      ],
      "metadata": {
        "id": "4oyphW3VhCqT"
      }
    },
    {
      "cell_type": "code",
      "source": [
        "def rotate_forever(s):\n",
        "  \"\"\" \n",
        "  Write a function that will return s with all of its elements 'rotated' left upon every call.\n",
        "  In a rotation, every element is moved to the spot to its right, and the final element is moved to the beginning.\n",
        "  The list should be mutated.\n",
        "\n",
        "  >>> s = [1, 2, 3, 4]\n",
        "  >>> rotate_forever(s)\n",
        "  s\n",
        "  [2, 3, 4, 1]\n",
        "  >>> rotate_forever(s)\n",
        "  s\n",
        "  [3, 4, 1, 2]\n",
        "  >>> rotate_forever(s)\n",
        "  s\n",
        "  [4, 1, 2, 3]\n",
        "  >>> rotate_forever(s)\n",
        "  s\n",
        "  [1, 2, 3, 4]\n",
        "  \"\"\"  \n",
        "  _____________________\n",
        "  return s"
      ],
      "metadata": {
        "id": "8DnK3_f57Krj"
      },
      "execution_count": null,
      "outputs": []
    },
    {
      "cell_type": "markdown",
      "source": [
        "Q4 Tests:"
      ],
      "metadata": {
        "id": "rdyq_cj9J1oH"
      }
    },
    {
      "cell_type": "code",
      "source": [
        "s = [1, 2, 3, 4]\n",
        "rotate_forever(s)\n",
        "assert s == [2, 3, 4, 1], f'Expected [2, 3, 4, 1], but got {s}'\n",
        "\n",
        "rotate_forever(s)\n",
        "assert s == [3, 4, 1, 2], f'Expected [3, 4, 1, 2], but got {s}'\n",
        "\n",
        "rotate_forever(s)\n",
        "assert s == [4, 1, 2, 3], f'Expected [4, 1, 2, 3], but got {s}'\n",
        "\n",
        "rotate_forever(s)\n",
        "assert s == [1, 2, 3, 4], f'Expected [1, 2, 3, 4], but got {s}'"
      ],
      "metadata": {
        "id": "Yyg3nDSTJ1wB"
      },
      "execution_count": null,
      "outputs": []
    },
    {
      "cell_type": "markdown",
      "source": [
        "## **Q5: Rise and Fall**"
      ],
      "metadata": {
        "id": "rwFXjQ8uitbX"
      }
    },
    {
      "cell_type": "code",
      "source": [
        "def cresdecrescendo(low, high, n):\n",
        "  \"\"\"\n",
        "  Return a list of integers of the pattern, repeated n times.\n",
        "  [low, low + 1, ..., high - 1, high, high - 1, ..., low + 1, low] repeated n times.\n",
        "  When n > 1, the low value that connects two iterations should not be duplicated.\n",
        "\n",
        "  >>> cresdecrescendo(1,5,3)\n",
        "  [1, 2, 3, 4, 5, 4, 3, 2, 1, 2, 3, 4, 5, 4, 3, 2, 1, 2, 3, 4, 5, 4, 3, 2, 1]\n",
        "  \"\"\"\n",
        "  return ____________________________________________________________________________"
      ],
      "metadata": {
        "id": "oeVCKvZmKmwQ"
      },
      "execution_count": null,
      "outputs": []
    },
    {
      "cell_type": "markdown",
      "source": [
        "Q5 Tests:"
      ],
      "metadata": {
        "id": "jxBRYyu3Km3h"
      }
    },
    {
      "cell_type": "code",
      "source": [
        "t = cresdecrescendo(1, 2, 3)\n",
        "exp = [1, 2, 1, 2, 1, 2, 1]\n",
        "assert t == exp, f'Expected {exp}, but got {t}.'\n",
        "\n",
        "t = cresdecrescendo(1, 5, 3)\n",
        "exp = [1, 2, 3, 4, 5, 4, 3, 2, 1, 2, 3, 4, 5, 4, 3, 2, 1, 2, 3, 4, 5, 4, 3, 2, 1]\n",
        "assert t == exp, f'Expected {exp}, but got {t}.'\n",
        "\n",
        "t = cresdecrescendo(3, 5, 4)\n",
        "exp = [3, 4, 5, 4, 3, 4, 5, 4, 3, 4, 5, 4, 3, 4, 5, 4, 3]\n",
        "assert t == exp, f'Expected {exp}, but got {t}.'"
      ],
      "metadata": {
        "id": "lDO8ud4RKnHz"
      },
      "execution_count": null,
      "outputs": []
    },
    {
      "cell_type": "markdown",
      "source": [
        "## **Q6: Rotating Split**"
      ],
      "metadata": {
        "id": "Jx-7pQOs7_Ka"
      }
    },
    {
      "cell_type": "code",
      "source": [
        "def rotating_split(lst, n):\n",
        "  \"\"\"\n",
        "  Write a function that models the below behavior. There should be n lists in the returned list.\n",
        "  s = [1, 2, 3, 4]\n",
        "  r = rotating_split(s, 6)\n",
        "  >>> r\n",
        "  [[1, 2, 3, 4], [2, 3, 4], [3, 4], [4], [1, 2, 3, 4], [2, 3, 4]]\n",
        "  \"\"\"\n",
        "  return ______________________________________________"
      ],
      "metadata": {
        "id": "UbNYhQAbMomL"
      },
      "execution_count": null,
      "outputs": []
    },
    {
      "cell_type": "markdown",
      "source": [
        "Q6 Tests:"
      ],
      "metadata": {
        "id": "S68-CDUqMoxX"
      }
    },
    {
      "cell_type": "code",
      "source": [
        "s = [1, 2, 3, 4]\n",
        "exp = [[1, 2, 3, 4], [2, 3, 4], [3, 4], [4], [1, 2, 3, 4], [2, 3, 4]]\n",
        "t = rotating_split(s, 6)\n",
        "assert t == exp, f'Expected {exp}, but got {t}.'"
      ],
      "metadata": {
        "id": "7nqee6b0Mo6k"
      },
      "execution_count": null,
      "outputs": []
    },
    {
      "cell_type": "markdown",
      "source": [
        "## **Q7: Rearrange**"
      ],
      "metadata": {
        "id": "RdZ5XZM78KNA"
      }
    },
    {
      "cell_type": "code",
      "source": [
        "def rearrange(lst):\n",
        "  \"\"\"\n",
        "  Write a function that returns a list of all unique \"rotations\" of lst, as specified by Q4.\n",
        "  >>> s = [1, 2, 3, 4]\n",
        "  >>> exp = rearrange(s)\n",
        "  >>> exp\n",
        "  [[1, 2, 3, 4], [2, 3, 4, 1], [3, 4, 1, 2], [4, 1, 2, 3]]\n",
        "  >>> s = [0, 2, 4]\n",
        "  >>> exp = rearrange(s)\n",
        "  >>> exp\n",
        "  [[0, 2, 4], [2, 4, 0], [4, 0, 2]]\n",
        "  \"\"\"\n",
        "  return ____________________________________________"
      ],
      "metadata": {
        "id": "KiG_m-bsOLm8"
      },
      "execution_count": null,
      "outputs": []
    },
    {
      "cell_type": "markdown",
      "source": [
        "Q7 Tests:"
      ],
      "metadata": {
        "id": "DjkJ44XXOLuT"
      }
    },
    {
      "cell_type": "code",
      "source": [
        "s = [1, 2, 3, 4]\n",
        "t = rearrange(s)\n",
        "exp = [[1, 2, 3, 4], [2, 3, 4, 1], [3, 4, 1, 2], [4, 1, 2, 3]]\n",
        "assert t == exp, f'Expected {exp}, but got {t}.'"
      ],
      "metadata": {
        "colab": {
          "base_uri": "https://localhost:8080/"
        },
        "id": "-kBY6Dc-OL19",
        "outputId": "2f8f6e94-5683-4cb7-e45c-646ff0b8fb71"
      },
      "execution_count": null,
      "outputs": [
        {
          "output_type": "stream",
          "name": "stdout",
          "text": [
            "[[0, 2, 4], [2, 4, 0], [4, 0, 2]]\n"
          ]
        }
      ]
    },
    {
      "cell_type": "markdown",
      "source": [
        "## **Q8: Identity**"
      ],
      "metadata": {
        "id": "gg_ZhgAoi15e"
      }
    },
    {
      "cell_type": "code",
      "source": [
        "def identity(n):\n",
        "  \"\"\"Replicate the behavior of numpy.identity.\n",
        "  Return the n x n identity matrix represented as a list of lists for n > 1.\n",
        "  https://numpy.org/devdocs/reference/generated/numpy.identity.html\n",
        "\n",
        "  >>> identity(5)\n",
        "  [[1, 0, 0, 0, 0], [0, 1, 0, 0, 0], [0, 0, 1, 0, 0], [0, 0, 0, 1, 0], [0, 0, 0, 0, 1]]\n",
        "  \"\"\"\n",
        "  # Hint: Use an if-else in the list comprehension.\n",
        "  return _________________________________________________________________________"
      ],
      "metadata": {
        "id": "Iot_2gEe5FLg"
      },
      "execution_count": null,
      "outputs": []
    },
    {
      "cell_type": "markdown",
      "source": [
        "Q6 Tests:"
      ],
      "metadata": {
        "id": "Gy5kRBUv5IFe"
      }
    },
    {
      "cell_type": "code",
      "source": [
        "t = identity(5)\n",
        "exp = [[1, 0, 0, 0, 0], [0, 1, 0, 0, 0], [0, 0, 1, 0, 0], [0, 0, 0, 1, 0], [0, 0, 0, 0, 1]]\n",
        "assert t == exp, f'Expected {exp} but got {t}'"
      ],
      "metadata": {
        "id": "MtYldPIj5J2Y"
      },
      "execution_count": null,
      "outputs": []
    },
    {
      "cell_type": "markdown",
      "source": [
        "## **Q9: Dictionary to List**"
      ],
      "metadata": {
        "id": "KAYFiGSfi8Ep"
      }
    },
    {
      "cell_type": "code",
      "source": [
        "def d2l(d):\n",
        "  \"\"\"\n",
        "  Takes dictionary d and returns a list of lists.\n",
        "  One deep will be created for each key-value pair in the dictionary.\n",
        "  Each deep list contains 1) The dictionary itself, 2) the key, 3) the value.\n",
        "\n",
        "  >>> d = {0 : 'a', 1 : 'b', 2 : 'c'}\n",
        "  >>> t = d2l(d)\n",
        "  >>> t\n",
        "  [[{0: 'a'}, 0, 'a'], [{1: 'b'}, 1, 'b'], [{2: 'c'}, 2, 'c']]\n",
        "  \"\"\"\n",
        "  return _________________________________________________________"
      ],
      "metadata": {
        "id": "HeaDggAdzXHe"
      },
      "execution_count": 1,
      "outputs": []
    },
    {
      "cell_type": "markdown",
      "source": [
        "Q9 Tests:"
      ],
      "metadata": {
        "id": "Gy6LwdBBzXPU"
      }
    },
    {
      "cell_type": "code",
      "source": [
        "d = {0 : 'a', 1 : 'b', 2 : 'c'}\n",
        "t = d2l(d)\n",
        "exp = [[{0: 'a'}, 0, 'a'], [{1: 'b'}, 1, 'b'], [{2: 'c'}, 2, 'c']]\n",
        "assert t == exp, f'Expected {exp}, but got {t}.'"
      ],
      "metadata": {
        "id": "29lju_AWzXXI"
      },
      "execution_count": 2,
      "outputs": []
    },
    {
      "cell_type": "markdown",
      "source": [
        "## **Q10: Map by Letter**"
      ],
      "metadata": {
        "id": "pQ9qmt6ti8QY"
      }
    },
    {
      "cell_type": "code",
      "source": [
        "def map_by_letter(s):\n",
        "  \"\"\" Return a dictionary mapping every letter in all words to a list of unique words containing the letter.\n",
        "  >>> s = ['dog', 'door', 'road']\n",
        "  >>> sort_by_letter(s)\n",
        "  {'d': ['dog', 'door', 'road'], 'o': ['dog', 'door', 'road'], 'g': ['dog'], 'r': ['door', 'road'], 'a': ['road']}\n",
        "  \"\"\"\n",
        "  m = {}\n",
        "\n",
        "\n",
        "\n",
        "\n",
        "\n",
        "\n",
        "\n",
        "  return m"
      ],
      "metadata": {
        "id": "crHEOVbE2IuI"
      },
      "execution_count": 4,
      "outputs": []
    },
    {
      "cell_type": "markdown",
      "source": [
        "Q10: Tests"
      ],
      "metadata": {
        "id": "BOM2E3cG3UAP"
      }
    },
    {
      "cell_type": "code",
      "source": [
        "s = ['hi']\n",
        "t = map_by_letter(s)\n",
        "assert t == {'h' : ['hi'], 'i' : ['hi']}\n",
        "\n",
        "s = ['hi', 'hi']\n",
        "t = map_by_letter(s)\n",
        "assert t == {'h' : ['hi'], 'i' : ['hi']}\n",
        "\n",
        "s = ['hi', 'pi']\n",
        "t = map_by_letter(s)\n",
        "exp = {'h' : ['hi'], 'i' : ['hi', 'pi'], 'p' : ['pi']}\n",
        "assert t == exp, f'Expected {exp}, but got {t}'"
      ],
      "metadata": {
        "id": "pMPT5tFO33aP"
      },
      "execution_count": null,
      "outputs": []
    }
  ]
}