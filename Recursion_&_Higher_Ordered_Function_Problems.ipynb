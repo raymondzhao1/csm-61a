{
  "nbformat": 4,
  "nbformat_minor": 0,
  "metadata": {
    "colab": {
      "provenance": [],
      "toc_visible": true,
      "authorship_tag": "ABX9TyMnzbZOhFXLvwMokXikFlNw",
      "include_colab_link": true
    },
    "kernelspec": {
      "name": "python3",
      "display_name": "Python 3"
    },
    "language_info": {
      "name": "python"
    }
  },
  "cells": [
    {
      "cell_type": "markdown",
      "metadata": {
        "id": "view-in-github",
        "colab_type": "text"
      },
      "source": [
        "<a href=\"https://colab.research.google.com/github/raymondzhao1/csm-61a/blob/main/Recursion_%26_Higher_Ordered_Function_Problems.ipynb\" target=\"_parent\"><img src=\"https://colab.research.google.com/assets/colab-badge.svg\" alt=\"Open In Colab\"/></a>"
      ]
    },
    {
      "cell_type": "markdown",
      "source": [
        "# **2/10: Higher-Order Environments, Currying, and Recursion**"
      ],
      "metadata": {
        "id": "fs0WTuKVQIjQ"
      }
    },
    {
      "cell_type": "markdown",
      "source": [
        "# Q1: No Zeros\n",
        "Write a function that removes all 0's from an integer."
      ],
      "metadata": {
        "id": "HOUr5XI0h0h6"
      }
    },
    {
      "cell_type": "code",
      "execution_count": null,
      "metadata": {
        "id": "9iwxyFrZQEvj"
      },
      "outputs": [],
      "source": [
        "def no_zeros(n):\n",
        "    \"\"\" If n is a valid positive integer, no_zeros(n) returns n with all 0's removed.\n",
        "    >>> no_zeros(0)\n",
        "    0 \n",
        "    >>> no_zeros(12093)\n",
        "    1293 \n",
        "    \"\"\"\n",
        "    if n == 0:\n",
        "        return 0\n",
        "    last, rest = n % 10, n // 10\n",
        "    if ________:\n",
        "        return no_zeros(rest)\n",
        "    if ________:\n",
        "        return ____ * __________ + ________"
      ]
    },
    {
      "cell_type": "markdown",
      "source": [
        "Q1 Tests:"
      ],
      "metadata": {
        "id": "u0r660fZiFqv"
      }
    },
    {
      "cell_type": "code",
      "source": [
        "t = no_zeros(0)\n",
        "assert t == 0, f'Expected 0, but got {t}.'\n",
        "\n",
        "t = no_zeros(10)\n",
        "assert t == 1, f'Expected 1, but got {t}.'\n",
        "\n",
        "t = no_zeros(123)\n",
        "assert t == 123, f'Expected 123, but got {t}.'\n",
        "\n",
        "t = no_zeros(10000001)\n",
        "assert t == 11, f'Expected 10000001, but got {t}.'\n",
        "\n",
        "t = no_zeros(2002340)\n",
        "assert t == 2234, f'Expected 2234, but got {t}.'"
      ],
      "metadata": {
        "id": "e61PLG5oQ9nG",
        "colab": {
          "base_uri": "https://localhost:8080/",
          "height": 357
        },
        "outputId": "e6b805d9-7cd1-49b3-a13f-a50f2a8655b3"
      },
      "execution_count": null,
      "outputs": [
        {
          "output_type": "error",
          "ename": "NameError",
          "evalue": "ignored",
          "traceback": [
            "\u001b[0;31m---------------------------------------------------------------------------\u001b[0m",
            "\u001b[0;31mNameError\u001b[0m                                 Traceback (most recent call last)",
            "\u001b[0;32m<ipython-input-3-f900857e7787>\u001b[0m in \u001b[0;36m<module>\u001b[0;34m\u001b[0m\n\u001b[1;32m      2\u001b[0m \u001b[0;32massert\u001b[0m \u001b[0mt\u001b[0m \u001b[0;34m==\u001b[0m \u001b[0;36m0\u001b[0m\u001b[0;34m,\u001b[0m \u001b[0;34mf'Expected 0, but got {t}.'\u001b[0m\u001b[0;34m\u001b[0m\u001b[0;34m\u001b[0m\u001b[0m\n\u001b[1;32m      3\u001b[0m \u001b[0;34m\u001b[0m\u001b[0m\n\u001b[0;32m----> 4\u001b[0;31m \u001b[0mt\u001b[0m \u001b[0;34m=\u001b[0m \u001b[0mno_zeros\u001b[0m\u001b[0;34m(\u001b[0m\u001b[0;36m10\u001b[0m\u001b[0;34m)\u001b[0m\u001b[0;34m\u001b[0m\u001b[0;34m\u001b[0m\u001b[0m\n\u001b[0m\u001b[1;32m      5\u001b[0m \u001b[0;32massert\u001b[0m \u001b[0mt\u001b[0m \u001b[0;34m==\u001b[0m \u001b[0;36m1\u001b[0m\u001b[0;34m,\u001b[0m \u001b[0;34mf'Expected 1, but got {t}.'\u001b[0m\u001b[0;34m\u001b[0m\u001b[0;34m\u001b[0m\u001b[0m\n\u001b[1;32m      6\u001b[0m \u001b[0;34m\u001b[0m\u001b[0m\n",
            "\u001b[0;32m<ipython-input-2-0d34b756888f>\u001b[0m in \u001b[0;36mno_zeros\u001b[0;34m(n)\u001b[0m\n\u001b[1;32m      9\u001b[0m         \u001b[0;32mreturn\u001b[0m \u001b[0;36m0\u001b[0m\u001b[0;34m\u001b[0m\u001b[0;34m\u001b[0m\u001b[0m\n\u001b[1;32m     10\u001b[0m     \u001b[0mlast\u001b[0m\u001b[0;34m,\u001b[0m \u001b[0mrest\u001b[0m \u001b[0;34m=\u001b[0m \u001b[0mn\u001b[0m \u001b[0;34m%\u001b[0m \u001b[0;36m10\u001b[0m\u001b[0;34m,\u001b[0m \u001b[0mn\u001b[0m \u001b[0;34m//\u001b[0m \u001b[0;36m10\u001b[0m\u001b[0;34m\u001b[0m\u001b[0;34m\u001b[0m\u001b[0m\n\u001b[0;32m---> 11\u001b[0;31m     \u001b[0;32mif\u001b[0m \u001b[0m________\u001b[0m\u001b[0;34m:\u001b[0m\u001b[0;34m\u001b[0m\u001b[0;34m\u001b[0m\u001b[0m\n\u001b[0m\u001b[1;32m     12\u001b[0m         \u001b[0;32mreturn\u001b[0m \u001b[0mno_zeros\u001b[0m\u001b[0;34m(\u001b[0m\u001b[0mrest\u001b[0m\u001b[0;34m)\u001b[0m\u001b[0;34m\u001b[0m\u001b[0;34m\u001b[0m\u001b[0m\n\u001b[1;32m     13\u001b[0m     \u001b[0;32mif\u001b[0m \u001b[0m________\u001b[0m\u001b[0;34m:\u001b[0m\u001b[0;34m\u001b[0m\u001b[0;34m\u001b[0m\u001b[0m\n",
            "\u001b[0;31mNameError\u001b[0m: name '________' is not defined"
          ]
        }
      ]
    },
    {
      "cell_type": "markdown",
      "source": [
        "# **Q2: Every Three**\n",
        "Write a function that removes every third digit from an integer when reading right to left."
      ],
      "metadata": {
        "id": "U1zbk5IAi6lG"
      }
    },
    {
      "cell_type": "code",
      "source": [
        "def remove_every_third(n):\n",
        "    \"\"\" If n is a valid positive integer, remove_every_third(n) returns n with every third digit removed.\n",
        "    >>> remove_every_third(100)\n",
        "    0 \n",
        "    >>> no_zeros(12093)\n",
        "    293 \n",
        "    \"\"\"\n",
        "    def helper(n,___):\n",
        "        if __________:\n",
        "            return _____\n",
        "        last, rest = n % 10, n // 10\n",
        "        if __________:\n",
        "            return __________\n",
        "        if __________:\n",
        "            return ____________________\n",
        "        \n",
        "    return helper(n,___)"
      ],
      "metadata": {
        "id": "rDFzewtPjASg"
      },
      "execution_count": null,
      "outputs": []
    },
    {
      "cell_type": "markdown",
      "source": [
        "Q2 Tests:"
      ],
      "metadata": {
        "id": "PJl50lZNmlDQ"
      }
    },
    {
      "cell_type": "code",
      "source": [
        "t = remove_every_third(100100100100)\n",
        "assert t == 0, f'Expected 0, but got{t}.'\n",
        "\n",
        "t = remove_every_third(120100100100)\n",
        "assert t == 20000000, f'Expected 20000000, but got{t}.'\n",
        "\n",
        "t = remove_every_third(123342)\n",
        "assert t == 2342, f'Expected 2342, but got{t}.'\n",
        "\n",
        "t = remove_every_third(10)\n",
        "assert t == 10, f'Expected 10, but got{t}.'\n",
        "\n",
        "t = remove_every_third(0)\n",
        "assert t == 0, f'Expected 0, but got{t}.'"
      ],
      "metadata": {
        "colab": {
          "base_uri": "https://localhost:8080/",
          "height": 381
        },
        "id": "XPT17NEDmjNB",
        "outputId": "cd916b10-477d-4c7f-d090-6a135e133342"
      },
      "execution_count": null,
      "outputs": [
        {
          "output_type": "error",
          "ename": "NameError",
          "evalue": "ignored",
          "traceback": [
            "\u001b[0;31m---------------------------------------------------------------------------\u001b[0m",
            "\u001b[0;31mNameError\u001b[0m                                 Traceback (most recent call last)",
            "\u001b[0;32m<ipython-input-55-cac1c654b30d>\u001b[0m in \u001b[0;36m<module>\u001b[0;34m\u001b[0m\n\u001b[0;32m----> 1\u001b[0;31m \u001b[0;32massert\u001b[0m \u001b[0mremove_every_third\u001b[0m\u001b[0;34m(\u001b[0m\u001b[0;36m100100100100\u001b[0m\u001b[0;34m)\u001b[0m \u001b[0;34m==\u001b[0m \u001b[0;36m0\u001b[0m\u001b[0;34m,\u001b[0m \u001b[0;34m\"Expected 0.\"\u001b[0m\u001b[0;34m\u001b[0m\u001b[0;34m\u001b[0m\u001b[0m\n\u001b[0m\u001b[1;32m      2\u001b[0m \u001b[0;32massert\u001b[0m \u001b[0mremove_every_third\u001b[0m\u001b[0;34m(\u001b[0m\u001b[0;36m120100100100\u001b[0m\u001b[0;34m)\u001b[0m \u001b[0;34m==\u001b[0m \u001b[0;36m20000000\u001b[0m\u001b[0;34m,\u001b[0m \u001b[0;34m\"Expected 20000000.\"\u001b[0m\u001b[0;34m\u001b[0m\u001b[0;34m\u001b[0m\u001b[0m\n\u001b[1;32m      3\u001b[0m \u001b[0;32massert\u001b[0m \u001b[0mremove_every_third\u001b[0m\u001b[0;34m(\u001b[0m\u001b[0;36m123342\u001b[0m\u001b[0;34m)\u001b[0m \u001b[0;34m==\u001b[0m \u001b[0;36m2342\u001b[0m\u001b[0;34m,\u001b[0m \u001b[0;34m\"Expected 2342.\"\u001b[0m\u001b[0;34m\u001b[0m\u001b[0;34m\u001b[0m\u001b[0m\n\u001b[1;32m      4\u001b[0m \u001b[0;32massert\u001b[0m \u001b[0mremove_every_third\u001b[0m\u001b[0;34m(\u001b[0m\u001b[0;36m10\u001b[0m\u001b[0;34m)\u001b[0m \u001b[0;34m==\u001b[0m \u001b[0;36m10\u001b[0m\u001b[0;34m,\u001b[0m \u001b[0;34m\"Expected 10.\"\u001b[0m\u001b[0;34m\u001b[0m\u001b[0;34m\u001b[0m\u001b[0m\n\u001b[1;32m      5\u001b[0m \u001b[0;32massert\u001b[0m \u001b[0mremove_every_third\u001b[0m\u001b[0;34m(\u001b[0m\u001b[0;36m0\u001b[0m\u001b[0;34m)\u001b[0m \u001b[0;34m==\u001b[0m \u001b[0;36m0\u001b[0m\u001b[0;34m,\u001b[0m \u001b[0;34m\"Expected 0.\"\u001b[0m\u001b[0;34m\u001b[0m\u001b[0;34m\u001b[0m\u001b[0m\n",
            "\u001b[0;32m<ipython-input-36-3e517278fc5b>\u001b[0m in \u001b[0;36mremove_every_third\u001b[0;34m(n)\u001b[0m\n\u001b[1;32m      9\u001b[0m             \u001b[0;32mreturn\u001b[0m \u001b[0m____________________\u001b[0m\u001b[0;34m\u001b[0m\u001b[0;34m\u001b[0m\u001b[0m\n\u001b[1;32m     10\u001b[0m \u001b[0;34m\u001b[0m\u001b[0m\n\u001b[0;32m---> 11\u001b[0;31m     \u001b[0;32mreturn\u001b[0m \u001b[0mhelper\u001b[0m\u001b[0;34m(\u001b[0m\u001b[0mn\u001b[0m\u001b[0;34m,\u001b[0m\u001b[0m___\u001b[0m\u001b[0;34m)\u001b[0m\u001b[0;34m\u001b[0m\u001b[0;34m\u001b[0m\u001b[0m\n\u001b[0m",
            "\u001b[0;32m<ipython-input-36-3e517278fc5b>\u001b[0m in \u001b[0;36mhelper\u001b[0;34m(n, ___)\u001b[0m\n\u001b[1;32m      1\u001b[0m \u001b[0;32mdef\u001b[0m \u001b[0mremove_every_third\u001b[0m\u001b[0;34m(\u001b[0m\u001b[0mn\u001b[0m\u001b[0;34m)\u001b[0m\u001b[0;34m:\u001b[0m\u001b[0;34m\u001b[0m\u001b[0;34m\u001b[0m\u001b[0m\n\u001b[1;32m      2\u001b[0m     \u001b[0;32mdef\u001b[0m \u001b[0mhelper\u001b[0m\u001b[0;34m(\u001b[0m\u001b[0mn\u001b[0m\u001b[0;34m,\u001b[0m\u001b[0m___\u001b[0m\u001b[0;34m)\u001b[0m\u001b[0;34m:\u001b[0m\u001b[0;34m\u001b[0m\u001b[0;34m\u001b[0m\u001b[0m\n\u001b[0;32m----> 3\u001b[0;31m         \u001b[0;32mif\u001b[0m \u001b[0m__________\u001b[0m\u001b[0;34m:\u001b[0m\u001b[0;34m\u001b[0m\u001b[0;34m\u001b[0m\u001b[0m\n\u001b[0m\u001b[1;32m      4\u001b[0m             \u001b[0;32mreturn\u001b[0m \u001b[0m_____\u001b[0m\u001b[0;34m\u001b[0m\u001b[0;34m\u001b[0m\u001b[0m\n\u001b[1;32m      5\u001b[0m         \u001b[0mlast\u001b[0m\u001b[0;34m,\u001b[0m \u001b[0mrest\u001b[0m \u001b[0;34m=\u001b[0m \u001b[0mn\u001b[0m \u001b[0;34m%\u001b[0m \u001b[0;36m10\u001b[0m\u001b[0;34m,\u001b[0m \u001b[0mn\u001b[0m \u001b[0;34m//\u001b[0m \u001b[0;36m10\u001b[0m\u001b[0;34m\u001b[0m\u001b[0;34m\u001b[0m\u001b[0m\n",
            "\u001b[0;31mNameError\u001b[0m: name '__________' is not defined"
          ]
        }
      ]
    },
    {
      "cell_type": "markdown",
      "source": [
        "# **Q3: Every N**\n",
        "Write a function that returns a function that can remove every nth digit from a number when reading right to left."
      ],
      "metadata": {
        "id": "zu0o2g3WjDWe"
      }
    },
    {
      "cell_type": "code",
      "source": [
        "def remove_every_i(i):\n",
        "    \"\"\" If n is a valid positive integer, remove_every_i(n, i) returns n with every ith digit removed.\n",
        "    >>> every_ith_remover = remove_every_i(2)\n",
        "    >>> every_ith_remover\n",
        "    <Function>\n",
        "    >>> every_ith_remover(120343)\n",
        "    233\n",
        "    \"\"\""
      ],
      "metadata": {
        "id": "l4NipSpynyfo"
      },
      "execution_count": null,
      "outputs": []
    },
    {
      "cell_type": "markdown",
      "source": [
        "Q3 Tests:"
      ],
      "metadata": {
        "id": "X7CAfeXHu7Pe"
      }
    },
    {
      "cell_type": "code",
      "source": [
        "every_second_remover = remove_every_i(2)\n",
        "assert every_second_remover(120343) == 233, \"Expected 2043\"\n",
        "\n",
        "every_fifth_remover = remove_every_i(5)\n",
        "t = every_fifth_remover(123)\n",
        "assert t == 123, \"Expected 123, but got {t}.\"\n",
        "\n",
        "t = every_fifth_remover(12334012309439)\n",
        "assert t == 123301239439, \"Expected 123301239439, but got {t}.\""
      ],
      "metadata": {
        "colab": {
          "base_uri": "https://localhost:8080/",
          "height": 235
        },
        "outputId": "815b195a-ad07-4b76-a550-9d4a28a138ff",
        "id": "KP-VGtV0pBJf"
      },
      "execution_count": null,
      "outputs": [
        {
          "output_type": "error",
          "ename": "TypeError",
          "evalue": "ignored",
          "traceback": [
            "\u001b[0;31m---------------------------------------------------------------------------\u001b[0m",
            "\u001b[0;31mTypeError\u001b[0m                                 Traceback (most recent call last)",
            "\u001b[0;32m<ipython-input-61-c4ec41d01e70>\u001b[0m in \u001b[0;36m<module>\u001b[0;34m\u001b[0m\n\u001b[1;32m      1\u001b[0m \u001b[0mevery_second_remover\u001b[0m \u001b[0;34m=\u001b[0m \u001b[0mremove_every_i\u001b[0m\u001b[0;34m(\u001b[0m\u001b[0;36m2\u001b[0m\u001b[0;34m)\u001b[0m\u001b[0;34m\u001b[0m\u001b[0;34m\u001b[0m\u001b[0m\n\u001b[0;32m----> 2\u001b[0;31m \u001b[0;32massert\u001b[0m \u001b[0mevery_second_remover\u001b[0m\u001b[0;34m(\u001b[0m\u001b[0;36m120343\u001b[0m\u001b[0;34m)\u001b[0m \u001b[0;34m==\u001b[0m \u001b[0;36m233\u001b[0m\u001b[0;34m,\u001b[0m \u001b[0;34m\"Expected 2043\"\u001b[0m\u001b[0;34m\u001b[0m\u001b[0;34m\u001b[0m\u001b[0m\n\u001b[0m\u001b[1;32m      3\u001b[0m \u001b[0;34m\u001b[0m\u001b[0m\n\u001b[1;32m      4\u001b[0m \u001b[0mevery_fifth_remover\u001b[0m \u001b[0;34m=\u001b[0m \u001b[0mremove_every_i\u001b[0m\u001b[0;34m(\u001b[0m\u001b[0;36m5\u001b[0m\u001b[0;34m)\u001b[0m\u001b[0;34m\u001b[0m\u001b[0;34m\u001b[0m\u001b[0m\n\u001b[1;32m      5\u001b[0m \u001b[0;32massert\u001b[0m \u001b[0mevery_fifth_remover\u001b[0m\u001b[0;34m(\u001b[0m\u001b[0;36m123\u001b[0m\u001b[0;34m)\u001b[0m \u001b[0;34m==\u001b[0m \u001b[0;36m123\u001b[0m\u001b[0;34m,\u001b[0m \u001b[0;34m\"Expected 123\"\u001b[0m\u001b[0;34m\u001b[0m\u001b[0;34m\u001b[0m\u001b[0m\n",
            "\u001b[0;31mTypeError\u001b[0m: 'NoneType' object is not callable"
          ]
        }
      ]
    }
  ]
}