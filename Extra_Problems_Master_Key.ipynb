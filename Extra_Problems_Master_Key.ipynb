{
  "nbformat": 4,
  "nbformat_minor": 0,
  "metadata": {
    "colab": {
      "provenance": [],
      "toc_visible": true,
      "authorship_tag": "ABX9TyMoR5uH4aUeSiGofhlZDTKQ",
      "include_colab_link": true
    },
    "kernelspec": {
      "name": "python3",
      "display_name": "Python 3"
    },
    "language_info": {
      "name": "python"
    }
  },
  "cells": [
    {
      "cell_type": "markdown",
      "metadata": {
        "id": "view-in-github",
        "colab_type": "text"
      },
      "source": [
        "<a href=\"https://colab.research.google.com/github/raymondzhao1/csm-61a/blob/main/Extra_Problems_Master_Key.ipynb\" target=\"_parent\"><img src=\"https://colab.research.google.com/assets/colab-badge.svg\" alt=\"Open In Colab\"/></a>"
      ]
    },
    {
      "cell_type": "markdown",
      "source": [
        "# **2/10: Higher-Order Environments, Currying, and Recursion**"
      ],
      "metadata": {
        "id": "fs0WTuKVQIjQ"
      }
    },
    {
      "cell_type": "markdown",
      "source": [
        "## Q1: No Zeros\n",
        "Write a function that removes all 0's from an integer."
      ],
      "metadata": {
        "id": "HOUr5XI0h0h6"
      }
    },
    {
      "cell_type": "code",
      "execution_count": null,
      "metadata": {
        "id": "9iwxyFrZQEvj"
      },
      "outputs": [],
      "source": [
        "def no_zeros(n):\n",
        "    \"\"\" \n",
        "    If n is a valid positive integer, no_zeros(n) returns n with all 0's removed.\n",
        "    \n",
        "    >>> no_zeros(0)\n",
        "    0 \n",
        "    >>> no_zeros(12093)\n",
        "    1293 \n",
        "    \"\"\"\n",
        "    if n==0:\n",
        "        return 0\n",
        "    last, rest = n % 10, n // 10\n",
        "    if last == 0:\n",
        "        return no_zeros(rest)\n",
        "    if last != 0:\n",
        "        return 10 * no_zeros(rest) + last"
      ]
    },
    {
      "cell_type": "markdown",
      "source": [
        "Q1 Tests:"
      ],
      "metadata": {
        "id": "u0r660fZiFqv"
      }
    },
    {
      "cell_type": "code",
      "source": [
        "t = no_zeros(0)\n",
        "assert t == 0, f'Expected 0, but got {t}.'\n",
        "\n",
        "t = no_zeros(10)\n",
        "assert t == 1, f'Expected 1, but got {t}.'\n",
        "\n",
        "t = no_zeros(123)\n",
        "assert t == 123, f'Expected 123, but got {t}.'\n",
        "\n",
        "t = no_zeros(10000001)\n",
        "assert t == 11, f'Expected 10000001, but got {t}.'\n",
        "\n",
        "t = no_zeros(2002340)\n",
        "assert t == 2234, f'Expected 2234, but got {t}.'"
      ],
      "metadata": {
        "id": "e61PLG5oQ9nG"
      },
      "execution_count": null,
      "outputs": []
    },
    {
      "cell_type": "markdown",
      "source": [
        "## **Q2: Every Three**\n",
        "Write a function that removes every third digit from an integer when reading right to left."
      ],
      "metadata": {
        "id": "U1zbk5IAi6lG"
      }
    },
    {
      "cell_type": "code",
      "source": [
        "def remove_every_third(n):\n",
        "    \"\"\" \n",
        "    If n is a valid positive integer, remove_every_third(n) returns n with every third digit removed.\n",
        "    \n",
        "    >>> remove_every_third(100)\n",
        "    0 \n",
        "    >>> no_zeros(12093)\n",
        "    293 \n",
        "    \"\"\"\n",
        "    def helper(n, i):\n",
        "        if n == 0:\n",
        "            return n\n",
        "        last, rest = n % 10, n // 10\n",
        "        if i == 0:\n",
        "            return helper(rest, 2)\n",
        "        if i != 0:\n",
        "            return 10 * helper(rest, i - 1) + last\n",
        "        \n",
        "    return helper(n, 2)"
      ],
      "metadata": {
        "id": "rDFzewtPjASg"
      },
      "execution_count": null,
      "outputs": []
    },
    {
      "cell_type": "markdown",
      "source": [
        "Q2 Tests:"
      ],
      "metadata": {
        "id": "PJl50lZNmlDQ"
      }
    },
    {
      "cell_type": "code",
      "source": [
        "t = remove_every_third(100100100100)\n",
        "assert t == 0, f'Expected 0, but got{t}.'\n",
        "\n",
        "t = remove_every_third(120100100100)\n",
        "assert t == 20000000, f'Expected 20000000, but got{t}.'\n",
        "\n",
        "t = remove_every_third(123342)\n",
        "assert t == 2342, f'Expected 2342, but got{t}.'\n",
        "\n",
        "t = remove_every_third(10)\n",
        "assert t == 10, f'Expected 10, but got{t}.'\n",
        "\n",
        "t = remove_every_third(0)\n",
        "assert t == 0, f'Expected 0, but got{t}.'"
      ],
      "metadata": {
        "id": "XPT17NEDmjNB"
      },
      "execution_count": null,
      "outputs": []
    },
    {
      "cell_type": "markdown",
      "source": [
        "## **Q3: Every N**\n",
        "Write a function that returns a function that can remove every nth digit from a number when reading right to left."
      ],
      "metadata": {
        "id": "zu0o2g3WjDWe"
      }
    },
    {
      "cell_type": "code",
      "source": [
        "def remove_every_i(i):\n",
        "    \"\"\" \n",
        "    If n is a valid positive integer, remove_every_i(n, i) returns n with every ith digit removed.\n",
        "    \n",
        "    >>> every_ith_remover = remove_every_i(2)\n",
        "    >>> every_ith_remover\n",
        "    <Function>\n",
        "    >>> every_ith_remover(120343)\n",
        "    233\n",
        "    \"\"\"\n",
        "    def f(n):\n",
        "        def helper(n, i, j):\n",
        "            if n == 0:\n",
        "                return n\n",
        "            last, rest = n % 10, n // 10\n",
        "            if j == 0:\n",
        "                return helper(rest, i, i)\n",
        "            if i != 0:\n",
        "                return 10 * helper(rest, i, j - 1) + last\n",
        "        return helper(n, i - 1, i - 1)\n",
        "    return f"
      ],
      "metadata": {
        "id": "l4NipSpynyfo"
      },
      "execution_count": null,
      "outputs": []
    },
    {
      "cell_type": "markdown",
      "source": [
        "Q3 Tests:"
      ],
      "metadata": {
        "id": "X7CAfeXHu7Pe"
      }
    },
    {
      "cell_type": "code",
      "source": [
        "every_second_remover = remove_every_i(2)\n",
        "t = every_second_remover(120343)\n",
        "assert t == 233, f'Expected 233, but got {t}.'\n",
        "\n",
        "every_fifth_remover = remove_every_i(5)\n",
        "t = every_fifth_remover(123)\n",
        "assert t == 123, f'Expected 123, but got {t}.'\n",
        "\n",
        "t = every_fifth_remover(12334012309439)\n",
        "assert t == 123301239439, f'Expected 123301239439, but got {t}.'"
      ],
      "metadata": {
        "id": "KP-VGtV0pBJf"
      },
      "execution_count": null,
      "outputs": []
    },
    {
      "cell_type": "markdown",
      "source": [
        "# 2/17: Tree Recursion\n"
      ],
      "metadata": {
        "id": "YCosN5PsfnB2"
      }
    },
    {
      "cell_type": "code",
      "source": [],
      "metadata": {
        "id": "e6wI4efHeuqF"
      },
      "execution_count": null,
      "outputs": []
    },
    {
      "cell_type": "markdown",
      "source": [
        "## **Q1: Size Capped Subsequences**"
      ],
      "metadata": {
        "id": "bU1LHukVK4UT"
      }
    },
    {
      "cell_type": "markdown",
      "source": [
        "# **2/24: Sequences and Containers**"
      ],
      "metadata": {
        "id": "7gLX84BifFjK"
      }
    },
    {
      "cell_type": "markdown",
      "source": [
        "## **Q1: WWPD**"
      ],
      "metadata": {
        "id": "WCNOxFrufd4C"
      }
    },
    {
      "cell_type": "code",
      "source": [
        "total = 0\n",
        "\n",
        "def func(x, y):\n",
        "    return [x, y]\n",
        "\n",
        "for el in [func(i, i) for i in range(3)]:\n",
        "    total += sum(el)"
      ],
      "metadata": {
        "id": "OiaZnsAwFrDC"
      },
      "execution_count": 63,
      "outputs": []
    },
    {
      "cell_type": "markdown",
      "source": [
        "Run the cell below to view the answer:"
      ],
      "metadata": {
        "id": "_AuhlsgNGFn2"
      }
    },
    {
      "cell_type": "code",
      "source": [
        "print(f'The value of total is {total}.')"
      ],
      "metadata": {
        "colab": {
          "base_uri": "https://localhost:8080/"
        },
        "id": "XSoVy2a6Fzux",
        "outputId": "adcbe833-eea7-406e-a502-a4c868fe291e"
      },
      "execution_count": 64,
      "outputs": [
        {
          "output_type": "stream",
          "name": "stdout",
          "text": [
            "The value of total is 6.\n"
          ]
        }
      ]
    },
    {
      "cell_type": "markdown",
      "source": [
        "## **Q2: Letter Check**"
      ],
      "metadata": {
        "id": "w2hK66Z-g94_"
      }
    },
    {
      "cell_type": "code",
      "source": [
        "def letter_check(lst, letter):\n",
        "  \"\"\" Return whether letter is present in every string of lst.\n",
        "  >>> s = ['dog', 'deck', 'dolly']\n",
        "  >>> letter_check(s, 'd') \n",
        "  True\n",
        "  \"\"\"\n",
        "  return all([letter in w for w in lst])"
      ],
      "metadata": {
        "id": "l85jumygIV5i"
      },
      "execution_count": 65,
      "outputs": []
    },
    {
      "cell_type": "markdown",
      "source": [
        "Q2 Tests:"
      ],
      "metadata": {
        "id": "7yspR8XTIWDP"
      }
    },
    {
      "cell_type": "code",
      "source": [
        "s = ['dog', 'deck', 'dolly']\n",
        "t = letter_check(s, 'd')\n",
        "assert t == True, f'Expected True, but got {t}'\n",
        "t = letter_check(s, 'e')\n",
        "assert t == False, f'Expected False, but got {t}'"
      ],
      "metadata": {
        "id": "xc70Vqf2IWO6"
      },
      "execution_count": 66,
      "outputs": []
    },
    {
      "cell_type": "markdown",
      "source": [
        "## **Q3: Letter Count**"
      ],
      "metadata": {
        "id": "ew8ZdN_gg8lp"
      }
    },
    {
      "cell_type": "code",
      "source": [
        "def letter_count(word, letter):\n",
        "  \"\"\" \n",
        "  Return number of times letter appears in word.\n",
        "  >>> letter_count('mississppi', 's')\n",
        "  4\n",
        "  \"\"\"\n",
        "  return len([c for c in word if c == letter])"
      ],
      "metadata": {
        "id": "OrKM9hQ7Gbm5"
      },
      "execution_count": 67,
      "outputs": []
    },
    {
      "cell_type": "markdown",
      "source": [
        "Q3 Tests:"
      ],
      "metadata": {
        "id": "587h_IX0IMZB"
      }
    },
    {
      "cell_type": "code",
      "source": [
        "t = letter_count('mississppi', 'i')\n",
        "assert t == 3, f'Expected 3, but got {t}'\n",
        "\n",
        "t = letter_count('9flalfkd', 'f')\n",
        "assert t == 2, f'Expected 2, but got {t}'\n",
        "\n",
        "t = letter_count('9flalfkd', 'z')\n",
        "assert t == 0, f'Expected 0, but got {t}'"
      ],
      "metadata": {
        "id": "45wrpQXXHIT5"
      },
      "execution_count": 73,
      "outputs": []
    },
    {
      "cell_type": "markdown",
      "source": [
        "## **Q4: Ever Rotate**"
      ],
      "metadata": {
        "id": "4oyphW3VhCqT"
      }
    },
    {
      "cell_type": "code",
      "source": [
        "def rotate_forever(s):\n",
        "  \"\"\" \n",
        "  Write a function that will return s with all of its elements 'rotated' left upon every call.\n",
        "  In a rotation, every element is moved to the spot to its right, and the final element is moved to the beginning.\n",
        "  The list should be mutated.\n",
        "\n",
        "  >>> s = [1, 2, 3, 4]\n",
        "  >>> rotate_forever(s)\n",
        "  s\n",
        "  [2, 3, 4, 1]\n",
        "  >>> rotate_forever(s)\n",
        "  s\n",
        "  [3, 4, 1, 2]\n",
        "  >>> rotate_forever(s)\n",
        "  s\n",
        "  [4, 1, 2, 3]\n",
        "  >>> rotate_forever(s)\n",
        "  s\n",
        "  [1, 2, 3, 4]\n",
        "  \"\"\"  \n",
        "  s.append(s.pop(0))\n",
        "  return s"
      ],
      "metadata": {
        "id": "8DnK3_f57Krj"
      },
      "execution_count": 69,
      "outputs": []
    },
    {
      "cell_type": "markdown",
      "source": [
        "Q4 Tests:"
      ],
      "metadata": {
        "id": "rdyq_cj9J1oH"
      }
    },
    {
      "cell_type": "code",
      "source": [
        "s = [1, 2, 3, 4]\n",
        "rotate_forever(s)\n",
        "assert s == [2, 3, 4, 1], f'Expected [2, 3, 4, 1], but got {s}'\n",
        "\n",
        "rotate_forever(s)\n",
        "assert s == [3, 4, 1, 2], f'Expected [3, 4, 1, 2], but got {s}'\n",
        "\n",
        "rotate_forever(s)\n",
        "assert s == [4, 1, 2, 3], f'Expected [4, 1, 2, 3], but got {s}'\n",
        "\n",
        "rotate_forever(s)\n",
        "assert s == [1, 2, 3, 4], f'Expected [1, 2, 3, 4], but got {s}'"
      ],
      "metadata": {
        "id": "Yyg3nDSTJ1wB"
      },
      "execution_count": 46,
      "outputs": []
    },
    {
      "cell_type": "markdown",
      "source": [
        "## **Q5: Rise and Fall**"
      ],
      "metadata": {
        "id": "rwFXjQ8uitbX"
      }
    },
    {
      "cell_type": "code",
      "source": [
        "def cresdecrescendo(low, high, n):\n",
        "  \"\"\"\n",
        "  Return a list of integers of the pattern, repeated n times.\n",
        "  [low, low + 1, ..., high - 1, high, high - 1, ..., low + 1, low] repeated n times.\n",
        "  When n > 1, the low value that connects two iterations should not be duplicated.\n",
        "\n",
        "  >>> cresdecrescendo(1,5,3)\n",
        "  [1, 2, 3, 4, 5, 4, 3, 2, 1, 2, 3, 4, 5, 4, 3, 2, 1, 2, 3, 4, 5, 4, 3, 2, 1]\n",
        "  \"\"\"\n",
        "  return ([i for i in range(low, high + 1)] + [i for i in range(low + 1, high)][::-1])*n + [low]"
      ],
      "metadata": {
        "id": "oeVCKvZmKmwQ"
      },
      "execution_count": 70,
      "outputs": []
    },
    {
      "cell_type": "markdown",
      "source": [
        "Q5 Tests:"
      ],
      "metadata": {
        "id": "jxBRYyu3Km3h"
      }
    },
    {
      "cell_type": "code",
      "source": [
        "t = cresdecrescendo(1, 2, 3)\n",
        "exp = [1, 2, 1, 2, 1, 2, 1]\n",
        "assert t == exp, f'Expected {exp}, but got {t}.'\n",
        "\n",
        "t = cresdecrescendo(1, 5, 3)\n",
        "exp = [1, 2, 3, 4, 5, 4, 3, 2, 1, 2, 3, 4, 5, 4, 3, 2, 1, 2, 3, 4, 5, 4, 3, 2, 1]\n",
        "assert t == exp, f'Expected {exp}, but got {t}.'\n",
        "\n",
        "t = cresdecrescendo(3, 5, 4)\n",
        "exp = [3, 4, 5, 4, 3, 4, 5, 4, 3, 4, 5, 4, 3, 4, 5, 4, 3]\n",
        "assert t == exp, f'Expected {exp}, but got {t}.'"
      ],
      "metadata": {
        "id": "lDO8ud4RKnHz"
      },
      "execution_count": 71,
      "outputs": []
    },
    {
      "cell_type": "markdown",
      "source": [
        "## **Q6: Rotating Split**"
      ],
      "metadata": {
        "id": "Jx-7pQOs7_Ka"
      }
    },
    {
      "cell_type": "code",
      "source": [
        "def rotating_split(lst, n):\n",
        "  \"\"\"\n",
        "  Write a function that models the below behavior. There should be n lists in the returned list.\n",
        "  s = [1, 2, 3, 4]\n",
        "  r = rotating_split(s, 6)\n",
        "  >>> r\n",
        "  [[1, 2, 3, 4], [2, 3, 4], [3, 4], [4], [1, 2, 3, 4], [2, 3, 4]]\n",
        "  \"\"\"\n",
        "  return [lst[i % len(lst):] for i in range(n)]"
      ],
      "metadata": {
        "id": "UbNYhQAbMomL"
      },
      "execution_count": 74,
      "outputs": []
    },
    {
      "cell_type": "markdown",
      "source": [
        "Q6 Tests:"
      ],
      "metadata": {
        "id": "S68-CDUqMoxX"
      }
    },
    {
      "cell_type": "code",
      "source": [
        "s = [1, 2, 3, 4]\n",
        "exp = [[1, 2, 3, 4], [2, 3, 4], [3, 4], [4], [1, 2, 3, 4], [2, 3, 4]]\n",
        "t = rotating_split(s, 6)\n",
        "assert t == exp, f'Expected {exp}, but got {t}.'"
      ],
      "metadata": {
        "id": "7nqee6b0Mo6k"
      },
      "execution_count": 75,
      "outputs": []
    },
    {
      "cell_type": "markdown",
      "source": [
        "## **Q7: Rearrange**"
      ],
      "metadata": {
        "id": "RdZ5XZM78KNA"
      }
    },
    {
      "cell_type": "code",
      "source": [
        "def rearrange(lst):\n",
        "  \"\"\"\n",
        "  Write a function that returns a list of all unique \"rotations\" of lst, as specified by Q4.\n",
        "  >>> s = [1, 2, 3, 4]\n",
        "  >>> exp = rearrange(s)\n",
        "  >>> exp\n",
        "  [[1, 2, 3, 4], [2, 3, 4, 1], [3, 4, 1, 2], [4, 1, 2, 3]]\n",
        "  >>> s = [0, 2, 4]\n",
        "  >>> exp = rearrange(s)\n",
        "  >>> exp\n",
        "  [[0, 2, 4], [2, 4, 0], [4, 0, 2]]\n",
        "  \"\"\"\n",
        "  return [lst[i:] + lst[:i] for i in range(0, len(lst))]"
      ],
      "metadata": {
        "id": "KiG_m-bsOLm8"
      },
      "execution_count": 62,
      "outputs": []
    },
    {
      "cell_type": "markdown",
      "source": [
        "Q7 Tests:"
      ],
      "metadata": {
        "id": "DjkJ44XXOLuT"
      }
    },
    {
      "cell_type": "code",
      "source": [
        "s = [1, 2, 3, 4]\n",
        "t = rearrange(s)\n",
        "exp = [[1, 2, 3, 4], [2, 3, 4, 1], [3, 4, 1, 2], [4, 1, 2, 3]]\n",
        "assert t == exp, f'Expected {exp}, but got {t}.'"
      ],
      "metadata": {
        "colab": {
          "base_uri": "https://localhost:8080/"
        },
        "id": "-kBY6Dc-OL19",
        "outputId": "2f8f6e94-5683-4cb7-e45c-646ff0b8fb71"
      },
      "execution_count": 26,
      "outputs": [
        {
          "output_type": "stream",
          "name": "stdout",
          "text": [
            "[[0, 2, 4], [2, 4, 0], [4, 0, 2]]\n"
          ]
        }
      ]
    },
    {
      "cell_type": "markdown",
      "source": [
        "## **Q8: Identity**"
      ],
      "metadata": {
        "id": "gg_ZhgAoi15e"
      }
    },
    {
      "cell_type": "code",
      "source": [
        "def identity(n):\n",
        "  \"\"\"Replicate the behavior of numpy.identity.\n",
        "  Return the n x n identity matrix represented as a list of lists for n > 1.\n",
        "  https://numpy.org/devdocs/reference/generated/numpy.identity.html\n",
        "\n",
        "  >>> identity(5)\n",
        "  [[1, 0, 0, 0, 0], [0, 1, 0, 0, 0], [0, 0, 1, 0, 0], [0, 0, 0, 1, 0], [0, 0, 0, 0, 1]]\n",
        "  \"\"\"\n",
        "  return [[1 if i == j else 0 for i in range(1, n + 1)] for j in range (1, n + 1)]"
      ],
      "metadata": {
        "id": "Iot_2gEe5FLg"
      },
      "execution_count": 12,
      "outputs": []
    },
    {
      "cell_type": "markdown",
      "source": [
        "Q6 Tests:"
      ],
      "metadata": {
        "id": "Gy5kRBUv5IFe"
      }
    },
    {
      "cell_type": "code",
      "source": [
        "t = identity(5)\n",
        "exp = [[1, 0, 0, 0, 0], [0, 1, 0, 0, 0], [0, 0, 1, 0, 0], [0, 0, 0, 1, 0], [0, 0, 0, 0, 1]]\n",
        "assert t == exp, f'Expected {exp} but got {t}'"
      ],
      "metadata": {
        "id": "MtYldPIj5J2Y"
      },
      "execution_count": 22,
      "outputs": []
    },
    {
      "cell_type": "markdown",
      "source": [
        "## **Q9: Dictionary to List**"
      ],
      "metadata": {
        "id": "KAYFiGSfi8Ep"
      }
    },
    {
      "cell_type": "code",
      "source": [
        "def d2l(d):\n",
        "  \"\"\"\n",
        "  Takes dictionary d and returns a list of lists.\n",
        "  One deep will be created for each key-value pair in the dictionary.\n",
        "  Each deep list contains 1) The dictionary itself, 2) the key, 3) the value.\n",
        "\n",
        "  >>> d = {0 : 'a', 1 : 'b', 2 : 'c'}\n",
        "  >>> t = d2l(d)\n",
        "  >>> t\n",
        "  [[{0: 'a'}, 0, 'a'], [{1: 'b'}, 1, 'b'], [{2: 'c'}, 2, 'c']]\n",
        "  \"\"\"\n",
        "  return [[{i:j}, i,j] for i,j in zip(list(d), list(d.values()))]"
      ],
      "metadata": {
        "id": "HeaDggAdzXHe"
      },
      "execution_count": 24,
      "outputs": []
    },
    {
      "cell_type": "markdown",
      "source": [
        "Q9 Tests:"
      ],
      "metadata": {
        "id": "Gy6LwdBBzXPU"
      }
    },
    {
      "cell_type": "code",
      "source": [
        "d = {0 : 'a', 1 : 'b', 2 : 'c'}\n",
        "t = d2l(d)\n",
        "exp = [[{0: 'a'}, 0, 'a'], [{1: 'b'}, 1, 'b'], [{2: 'c'}, 2, 'c']]\n",
        "assert t == exp, f'Expected {exp}, but got {t}.'"
      ],
      "metadata": {
        "id": "29lju_AWzXXI"
      },
      "execution_count": 25,
      "outputs": []
    },
    {
      "cell_type": "markdown",
      "source": [
        "## **Q10: Map by Letter**"
      ],
      "metadata": {
        "id": "pQ9qmt6ti8QY"
      }
    },
    {
      "cell_type": "code",
      "source": [
        "def map_by_letter(s):\n",
        "  \"\"\" Return a dictionary mapping every letter in all words to a list of unique words containing the letter.\n",
        "  >>> s = ['dog', 'door', 'road']\n",
        "  >>> sort_by_letter(s)\n",
        "  {'d': ['dog', 'door', 'road'], 'o': ['dog', 'door', 'road'], 'g': ['dog'], 'r': ['door', 'road'], 'a': ['road']}\n",
        "  \"\"\"\n",
        "  m = {}\n",
        "  for w in s:\n",
        "    for c in w:\n",
        "      if c not in m:\n",
        "        m[c] = [w]\n",
        "      else:\n",
        "        if w not in m[c]:\n",
        "          m[c].append(w)\n",
        "  return m"
      ],
      "metadata": {
        "id": "crHEOVbE2IuI"
      },
      "execution_count": 20,
      "outputs": []
    },
    {
      "cell_type": "markdown",
      "source": [
        "Q10: Tests"
      ],
      "metadata": {
        "id": "BOM2E3cG3UAP"
      }
    },
    {
      "cell_type": "code",
      "source": [
        "s = ['hi']\n",
        "t = map_by_letter(s)\n",
        "assert t == {'h' : ['hi'], 'i' : ['hi']}\n",
        "\n",
        "s = ['hi', 'hi']\n",
        "t = map_by_letter(s)\n",
        "assert t == {'h' : ['hi'], 'i' : ['hi']}\n",
        "\n",
        "s = ['hi', 'pi']\n",
        "t = map_by_letter(s)\n",
        "exp = {'h' : ['hi'], 'i' : ['hi', 'pi'], 'p' : ['pi']}\n",
        "assert t == exp, f'Expected {exp}, but got {t}'"
      ],
      "metadata": {
        "id": "pMPT5tFO33aP"
      },
      "execution_count": 21,
      "outputs": []
    }
  ]
}