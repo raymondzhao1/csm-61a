{
  "nbformat": 4,
  "nbformat_minor": 0,
  "metadata": {
    "colab": {
      "provenance": [],
      "toc_visible": true,
      "authorship_tag": "ABX9TyPzUN+cUUIWXhrJkiHh7L60",
      "include_colab_link": true
    },
    "kernelspec": {
      "name": "python3",
      "display_name": "Python 3"
    },
    "language_info": {
      "name": "python"
    }
  },
  "cells": [
    {
      "cell_type": "markdown",
      "metadata": {
        "id": "view-in-github",
        "colab_type": "text"
      },
      "source": [
        "<a href=\"https://colab.research.google.com/github/raymondzhao1/csm-61a/blob/main/Extra%20Problems%20Key.ipynb\" target=\"_parent\"><img src=\"https://colab.research.google.com/assets/colab-badge.svg\" alt=\"Open In Colab\"/></a>"
      ]
    },
    {
      "cell_type": "markdown",
      "source": [
        "# **2/10: Higher-Order Environments, Currying, and Recursion**"
      ],
      "metadata": {
        "id": "fs0WTuKVQIjQ"
      }
    },
    {
      "cell_type": "markdown",
      "source": [
        "# Q1: No Zeros\n",
        "Write a function that removes all 0's from an integer."
      ],
      "metadata": {
        "id": "HOUr5XI0h0h6"
      }
    },
    {
      "cell_type": "code",
      "execution_count": 1,
      "metadata": {
        "id": "9iwxyFrZQEvj"
      },
      "outputs": [],
      "source": [
        "def no_zeros(n):\n",
        "    \"\"\" If n is a valid positive integer, no_zeros(n) returns n with all 0's removed.\n",
        "    >>> no_zeros(0)\n",
        "    0 \n",
        "    >>> no_zeros(12093)\n",
        "    1293 \n",
        "    \"\"\"\n",
        "    if n==0:\n",
        "        return 0\n",
        "    last, rest = n % 10, n // 10\n",
        "    if last == 0:\n",
        "        return no_zeros(rest)\n",
        "    if last != 0:\n",
        "        return 10 * no_zeros(rest) + last"
      ]
    },
    {
      "cell_type": "markdown",
      "source": [
        "Q1 Tests:"
      ],
      "metadata": {
        "id": "u0r660fZiFqv"
      }
    },
    {
      "cell_type": "code",
      "source": [
        "t = no_zeros(0)\n",
        "assert t == 0, f'Expected 0, but got {t}.'\n",
        "\n",
        "t = no_zeros(10)\n",
        "assert t == 1, f'Expected 1, but got {t}.'\n",
        "\n",
        "t = no_zeros(123)\n",
        "assert t == 123, f'Expected 123, but got {t}.'\n",
        "\n",
        "t = no_zeros(10000001)\n",
        "assert t == 11, f'Expected 10000001, but got {t}.'\n",
        "\n",
        "t = no_zeros(2002340)\n",
        "assert t == 2234, f'Expected 2234, but got {t}.'"
      ],
      "metadata": {
        "id": "e61PLG5oQ9nG"
      },
      "execution_count": 2,
      "outputs": []
    },
    {
      "cell_type": "markdown",
      "source": [
        "# **Q2: Every Three**\n",
        "Write a function that removes every third digit from an integer when reading right to left."
      ],
      "metadata": {
        "id": "U1zbk5IAi6lG"
      }
    },
    {
      "cell_type": "code",
      "source": [
        "def remove_every_third(n):\n",
        "    \"\"\" If n is a valid positive integer, remove_every_third(n) returns n with every third digit removed.\n",
        "    >>> remove_every_third(100)\n",
        "    0 \n",
        "    >>> no_zeros(12093)\n",
        "    293 \n",
        "    \"\"\"\n",
        "    def helper(n, i):\n",
        "        if n == 0:\n",
        "            return n\n",
        "        last, rest = n % 10, n // 10\n",
        "        if i == 0:\n",
        "            return helper(rest, 2)\n",
        "        if i != 0:\n",
        "            return 10 * helper(rest, i - 1) + last\n",
        "        \n",
        "    return helper(n, 2)"
      ],
      "metadata": {
        "id": "rDFzewtPjASg"
      },
      "execution_count": 3,
      "outputs": []
    },
    {
      "cell_type": "markdown",
      "source": [
        "Q2 Tests:"
      ],
      "metadata": {
        "id": "PJl50lZNmlDQ"
      }
    },
    {
      "cell_type": "code",
      "source": [
        "t = remove_every_third(100100100100)\n",
        "assert t == 0, f'Expected 0, but got{t}.'\n",
        "\n",
        "t = remove_every_third(120100100100)\n",
        "assert t == 20000000, f'Expected 20000000, but got{t}.'\n",
        "\n",
        "t = remove_every_third(123342)\n",
        "assert t == 2342, f'Expected 2342, but got{t}.'\n",
        "\n",
        "t = remove_every_third(10)\n",
        "assert t == 10, f'Expected 10, but got{t}.'\n",
        "\n",
        "t = remove_every_third(0)\n",
        "assert t == 0, f'Expected 0, but got{t}.'"
      ],
      "metadata": {
        "id": "XPT17NEDmjNB"
      },
      "execution_count": 4,
      "outputs": []
    },
    {
      "cell_type": "markdown",
      "source": [
        "# **Q3: Every N**\n",
        "Write a function that returns a function that can remove every nth digit from a number when reading right to left."
      ],
      "metadata": {
        "id": "zu0o2g3WjDWe"
      }
    },
    {
      "cell_type": "code",
      "source": [
        "def remove_every_i(i):\n",
        "    \"\"\" If n is a valid positive integer, remove_every_i(n, i) returns n with every ith digit removed.\n",
        "    >>> every_ith_remover = remove_every_i(2)\n",
        "    >>> every_ith_remover\n",
        "    <Function>\n",
        "    >>> every_ith_remover(120343)\n",
        "    233\n",
        "    \"\"\"\n",
        "    def f(n):\n",
        "        def helper(n, i, j):\n",
        "            if n == 0:\n",
        "                return n\n",
        "            last, rest = n % 10, n // 10\n",
        "            if j == 0:\n",
        "                return helper(rest, i, i)\n",
        "            if i != 0:\n",
        "                return 10 * helper(rest, i, j - 1) + last\n",
        "        return helper(n, i - 1, i - 1)\n",
        "    return f"
      ],
      "metadata": {
        "id": "l4NipSpynyfo"
      },
      "execution_count": 6,
      "outputs": []
    },
    {
      "cell_type": "markdown",
      "source": [
        "Q3 Tests:"
      ],
      "metadata": {
        "id": "X7CAfeXHu7Pe"
      }
    },
    {
      "cell_type": "code",
      "source": [
        "every_second_remover = remove_every_i(2)\n",
        "t = every_second_remover(120343)\n",
        "assert t == 233, \"Expected 233, but got {t}.\"\n",
        "\n",
        "every_fifth_remover = remove_every_i(5)\n",
        "t = every_fifth_remover(123)\n",
        "assert t == 123, \"Expected 123, but got {t}.\"\n",
        "\n",
        "t = every_fifth_remover(12334012309439)\n",
        "assert t == 123301239439, \"Expected 123301239439, but got {t}.\""
      ],
      "metadata": {
        "id": "KP-VGtV0pBJf"
      },
      "execution_count": 8,
      "outputs": []
    }
  ]
}